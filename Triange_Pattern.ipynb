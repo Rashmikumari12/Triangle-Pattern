{
 "cells": [
  {
   "cell_type": "code",
   "execution_count": 5,
   "id": "91c9a6b1",
   "metadata": {},
   "outputs": [
    {
     "name": "stdout",
     "output_type": "stream",
     "text": [
      "* \n",
      "* * \n",
      "* * * \n",
      "* * * * \n",
      "* * * * * \n"
     ]
    }
   ],
   "source": [
    "# Print Triangle Pattern\n",
    "  #Lower Triangular Pattern\n",
    "    \n",
    "rows = 5    \n",
    "for i in range(1,rows+1):\n",
    "    for j in range(1,i+1):\n",
    "        print('*',end=\" \")\n",
    "    print()   \n",
    "                    "
   ]
  },
  {
   "cell_type": "code",
   "execution_count": 21,
   "id": "62ae6596",
   "metadata": {},
   "outputs": [
    {
     "name": "stdout",
     "output_type": "stream",
     "text": [
      "        * \n",
      "      * * \n",
      "    * * * \n",
      "  * * * * \n",
      "* * * * * \n"
     ]
    }
   ],
   "source": [
    "# Upper Triangulaer pattern\n",
    "\n",
    "rows = 5\n",
    "for i in range (1,6):\n",
    "    for j in range(1,6):\n",
    "        if j <= 5 - i:\n",
    "            print(\" \",end =\" \")\n",
    "        else:\n",
    "            print (\"*\",end =\" \")\n",
    "    print()\n",
    "                \n",
    "        \n",
    "            "
   ]
  },
  {
   "cell_type": "code",
   "execution_count": 24,
   "id": "5088ba69",
   "metadata": {},
   "outputs": [
    {
     "name": "stdout",
     "output_type": "stream",
     "text": [
      "     * \n",
      "    * * \n",
      "   * * * \n",
      "  * * * * \n",
      " * * * * * \n"
     ]
    }
   ],
   "source": [
    "# pyramid pattern\n",
    "\n",
    "rows = 5\n",
    "for i in range (1, rows+1):\n",
    "    \n",
    "    for j in range (rows-i):\n",
    "        print(\" \", end=\"\")\n",
    "    for k in range(i):\n",
    "        if k == i - 1:\n",
    "            print(\" * \", end=\"\")\n",
    "        else:\n",
    "            print(\" *\", end=\"\")\n",
    "    print()\n",
    "        "
   ]
  },
  {
   "cell_type": "code",
   "execution_count": null,
   "id": "67a98114",
   "metadata": {},
   "outputs": [],
   "source": []
  }
 ],
 "metadata": {
  "kernelspec": {
   "display_name": "Python 3 (ipykernel)",
   "language": "python",
   "name": "python3"
  },
  "language_info": {
   "codemirror_mode": {
    "name": "ipython",
    "version": 3
   },
   "file_extension": ".py",
   "mimetype": "text/x-python",
   "name": "python",
   "nbconvert_exporter": "python",
   "pygments_lexer": "ipython3",
   "version": "3.11.5"
  }
 },
 "nbformat": 4,
 "nbformat_minor": 5
}
